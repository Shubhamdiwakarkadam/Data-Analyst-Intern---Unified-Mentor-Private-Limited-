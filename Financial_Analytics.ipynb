{
  "nbformat": 4,
  "nbformat_minor": 0,
  "metadata": {
    "colab": {
      "provenance": [],
      "authorship_tag": "ABX9TyO3vHYKj8uouz/VkxjiCcpY",
      "include_colab_link": true
    },
    "kernelspec": {
      "name": "python3",
      "display_name": "Python 3"
    },
    "language_info": {
      "name": "python"
    }
  },
  "cells": [
    {
      "cell_type": "markdown",
      "metadata": {
        "id": "view-in-github",
        "colab_type": "text"
      },
      "source": [
        "<a href=\"https://colab.research.google.com/github/Shubhamdiwakarkadam/Data-Analyst-Intern---Unified-Mentor-Private-Limited-/blob/main/Financial_Analytics.ipynb\" target=\"_parent\"><img src=\"https://colab.research.google.com/assets/colab-badge.svg\" alt=\"Open In Colab\"/></a>"
      ]
    },
    {
      "cell_type": "code",
      "execution_count": 1,
      "metadata": {
        "id": "PdeQVheylGeQ"
      },
      "outputs": [],
      "source": [
        "import pandas as pd\n",
        "import matplotlib.pyplot as plt\n",
        "import seaborn as sns"
      ]
    },
    {
      "cell_type": "code",
      "source": [
        "#Load the dataset\n",
        "file_path = '/content/Financial Analytics data.csv'\n",
        "data = pd.read_csv(file_path)\n",
        "# Display the first few rows of the dataset to understand its structure\n",
        "data.head()"
      ],
      "metadata": {
        "colab": {
          "base_uri": "https://localhost:8080/",
          "height": 206
        },
        "id": "QZpuhc7jlY00",
        "outputId": "b39525fe-c1b7-4322-afe6-bd54a628c044"
      },
      "execution_count": 2,
      "outputs": [
        {
          "output_type": "execute_result",
          "data": {
            "text/plain": [
              "   S.No.            Name  Mar Cap - Crore  Sales Qtr - Crore  Unnamed: 4\n",
              "0      1  Reliance Inds.        583436.72           99810.00         NaN\n",
              "1      2             TCS        563709.84           30904.00         NaN\n",
              "2      3       HDFC Bank        482953.59           20581.27         NaN\n",
              "3      4             ITC        320985.27            9772.02         NaN\n",
              "4      5         H D F C        289497.37           16840.51         NaN"
            ],
            "text/html": [
              "\n",
              "  <div id=\"df-290c14f3-372f-436b-bb6f-a8c351430f4c\" class=\"colab-df-container\">\n",
              "    <div>\n",
              "<style scoped>\n",
              "    .dataframe tbody tr th:only-of-type {\n",
              "        vertical-align: middle;\n",
              "    }\n",
              "\n",
              "    .dataframe tbody tr th {\n",
              "        vertical-align: top;\n",
              "    }\n",
              "\n",
              "    .dataframe thead th {\n",
              "        text-align: right;\n",
              "    }\n",
              "</style>\n",
              "<table border=\"1\" class=\"dataframe\">\n",
              "  <thead>\n",
              "    <tr style=\"text-align: right;\">\n",
              "      <th></th>\n",
              "      <th>S.No.</th>\n",
              "      <th>Name</th>\n",
              "      <th>Mar Cap - Crore</th>\n",
              "      <th>Sales Qtr - Crore</th>\n",
              "      <th>Unnamed: 4</th>\n",
              "    </tr>\n",
              "  </thead>\n",
              "  <tbody>\n",
              "    <tr>\n",
              "      <th>0</th>\n",
              "      <td>1</td>\n",
              "      <td>Reliance Inds.</td>\n",
              "      <td>583436.72</td>\n",
              "      <td>99810.00</td>\n",
              "      <td>NaN</td>\n",
              "    </tr>\n",
              "    <tr>\n",
              "      <th>1</th>\n",
              "      <td>2</td>\n",
              "      <td>TCS</td>\n",
              "      <td>563709.84</td>\n",
              "      <td>30904.00</td>\n",
              "      <td>NaN</td>\n",
              "    </tr>\n",
              "    <tr>\n",
              "      <th>2</th>\n",
              "      <td>3</td>\n",
              "      <td>HDFC Bank</td>\n",
              "      <td>482953.59</td>\n",
              "      <td>20581.27</td>\n",
              "      <td>NaN</td>\n",
              "    </tr>\n",
              "    <tr>\n",
              "      <th>3</th>\n",
              "      <td>4</td>\n",
              "      <td>ITC</td>\n",
              "      <td>320985.27</td>\n",
              "      <td>9772.02</td>\n",
              "      <td>NaN</td>\n",
              "    </tr>\n",
              "    <tr>\n",
              "      <th>4</th>\n",
              "      <td>5</td>\n",
              "      <td>H D F C</td>\n",
              "      <td>289497.37</td>\n",
              "      <td>16840.51</td>\n",
              "      <td>NaN</td>\n",
              "    </tr>\n",
              "  </tbody>\n",
              "</table>\n",
              "</div>\n",
              "    <div class=\"colab-df-buttons\">\n",
              "\n",
              "  <div class=\"colab-df-container\">\n",
              "    <button class=\"colab-df-convert\" onclick=\"convertToInteractive('df-290c14f3-372f-436b-bb6f-a8c351430f4c')\"\n",
              "            title=\"Convert this dataframe to an interactive table.\"\n",
              "            style=\"display:none;\">\n",
              "\n",
              "  <svg xmlns=\"http://www.w3.org/2000/svg\" height=\"24px\" viewBox=\"0 -960 960 960\">\n",
              "    <path d=\"M120-120v-720h720v720H120Zm60-500h600v-160H180v160Zm220 220h160v-160H400v160Zm0 220h160v-160H400v160ZM180-400h160v-160H180v160Zm440 0h160v-160H620v160ZM180-180h160v-160H180v160Zm440 0h160v-160H620v160Z\"/>\n",
              "  </svg>\n",
              "    </button>\n",
              "\n",
              "  <style>\n",
              "    .colab-df-container {\n",
              "      display:flex;\n",
              "      gap: 12px;\n",
              "    }\n",
              "\n",
              "    .colab-df-convert {\n",
              "      background-color: #E8F0FE;\n",
              "      border: none;\n",
              "      border-radius: 50%;\n",
              "      cursor: pointer;\n",
              "      display: none;\n",
              "      fill: #1967D2;\n",
              "      height: 32px;\n",
              "      padding: 0 0 0 0;\n",
              "      width: 32px;\n",
              "    }\n",
              "\n",
              "    .colab-df-convert:hover {\n",
              "      background-color: #E2EBFA;\n",
              "      box-shadow: 0px 1px 2px rgba(60, 64, 67, 0.3), 0px 1px 3px 1px rgba(60, 64, 67, 0.15);\n",
              "      fill: #174EA6;\n",
              "    }\n",
              "\n",
              "    .colab-df-buttons div {\n",
              "      margin-bottom: 4px;\n",
              "    }\n",
              "\n",
              "    [theme=dark] .colab-df-convert {\n",
              "      background-color: #3B4455;\n",
              "      fill: #D2E3FC;\n",
              "    }\n",
              "\n",
              "    [theme=dark] .colab-df-convert:hover {\n",
              "      background-color: #434B5C;\n",
              "      box-shadow: 0px 1px 3px 1px rgba(0, 0, 0, 0.15);\n",
              "      filter: drop-shadow(0px 1px 2px rgba(0, 0, 0, 0.3));\n",
              "      fill: #FFFFFF;\n",
              "    }\n",
              "  </style>\n",
              "\n",
              "    <script>\n",
              "      const buttonEl =\n",
              "        document.querySelector('#df-290c14f3-372f-436b-bb6f-a8c351430f4c button.colab-df-convert');\n",
              "      buttonEl.style.display =\n",
              "        google.colab.kernel.accessAllowed ? 'block' : 'none';\n",
              "\n",
              "      async function convertToInteractive(key) {\n",
              "        const element = document.querySelector('#df-290c14f3-372f-436b-bb6f-a8c351430f4c');\n",
              "        const dataTable =\n",
              "          await google.colab.kernel.invokeFunction('convertToInteractive',\n",
              "                                                    [key], {});\n",
              "        if (!dataTable) return;\n",
              "\n",
              "        const docLinkHtml = 'Like what you see? Visit the ' +\n",
              "          '<a target=\"_blank\" href=https://colab.research.google.com/notebooks/data_table.ipynb>data table notebook</a>'\n",
              "          + ' to learn more about interactive tables.';\n",
              "        element.innerHTML = '';\n",
              "        dataTable['output_type'] = 'display_data';\n",
              "        await google.colab.output.renderOutput(dataTable, element);\n",
              "        const docLink = document.createElement('div');\n",
              "        docLink.innerHTML = docLinkHtml;\n",
              "        element.appendChild(docLink);\n",
              "      }\n",
              "    </script>\n",
              "  </div>\n",
              "\n",
              "\n",
              "<div id=\"df-85e11ce3-ab38-4e1b-b1f6-96f6c5be14e2\">\n",
              "  <button class=\"colab-df-quickchart\" onclick=\"quickchart('df-85e11ce3-ab38-4e1b-b1f6-96f6c5be14e2')\"\n",
              "            title=\"Suggest charts\"\n",
              "            style=\"display:none;\">\n",
              "\n",
              "<svg xmlns=\"http://www.w3.org/2000/svg\" height=\"24px\"viewBox=\"0 0 24 24\"\n",
              "     width=\"24px\">\n",
              "    <g>\n",
              "        <path d=\"M19 3H5c-1.1 0-2 .9-2 2v14c0 1.1.9 2 2 2h14c1.1 0 2-.9 2-2V5c0-1.1-.9-2-2-2zM9 17H7v-7h2v7zm4 0h-2V7h2v10zm4 0h-2v-4h2v4z\"/>\n",
              "    </g>\n",
              "</svg>\n",
              "  </button>\n",
              "\n",
              "<style>\n",
              "  .colab-df-quickchart {\n",
              "      --bg-color: #E8F0FE;\n",
              "      --fill-color: #1967D2;\n",
              "      --hover-bg-color: #E2EBFA;\n",
              "      --hover-fill-color: #174EA6;\n",
              "      --disabled-fill-color: #AAA;\n",
              "      --disabled-bg-color: #DDD;\n",
              "  }\n",
              "\n",
              "  [theme=dark] .colab-df-quickchart {\n",
              "      --bg-color: #3B4455;\n",
              "      --fill-color: #D2E3FC;\n",
              "      --hover-bg-color: #434B5C;\n",
              "      --hover-fill-color: #FFFFFF;\n",
              "      --disabled-bg-color: #3B4455;\n",
              "      --disabled-fill-color: #666;\n",
              "  }\n",
              "\n",
              "  .colab-df-quickchart {\n",
              "    background-color: var(--bg-color);\n",
              "    border: none;\n",
              "    border-radius: 50%;\n",
              "    cursor: pointer;\n",
              "    display: none;\n",
              "    fill: var(--fill-color);\n",
              "    height: 32px;\n",
              "    padding: 0;\n",
              "    width: 32px;\n",
              "  }\n",
              "\n",
              "  .colab-df-quickchart:hover {\n",
              "    background-color: var(--hover-bg-color);\n",
              "    box-shadow: 0 1px 2px rgba(60, 64, 67, 0.3), 0 1px 3px 1px rgba(60, 64, 67, 0.15);\n",
              "    fill: var(--button-hover-fill-color);\n",
              "  }\n",
              "\n",
              "  .colab-df-quickchart-complete:disabled,\n",
              "  .colab-df-quickchart-complete:disabled:hover {\n",
              "    background-color: var(--disabled-bg-color);\n",
              "    fill: var(--disabled-fill-color);\n",
              "    box-shadow: none;\n",
              "  }\n",
              "\n",
              "  .colab-df-spinner {\n",
              "    border: 2px solid var(--fill-color);\n",
              "    border-color: transparent;\n",
              "    border-bottom-color: var(--fill-color);\n",
              "    animation:\n",
              "      spin 1s steps(1) infinite;\n",
              "  }\n",
              "\n",
              "  @keyframes spin {\n",
              "    0% {\n",
              "      border-color: transparent;\n",
              "      border-bottom-color: var(--fill-color);\n",
              "      border-left-color: var(--fill-color);\n",
              "    }\n",
              "    20% {\n",
              "      border-color: transparent;\n",
              "      border-left-color: var(--fill-color);\n",
              "      border-top-color: var(--fill-color);\n",
              "    }\n",
              "    30% {\n",
              "      border-color: transparent;\n",
              "      border-left-color: var(--fill-color);\n",
              "      border-top-color: var(--fill-color);\n",
              "      border-right-color: var(--fill-color);\n",
              "    }\n",
              "    40% {\n",
              "      border-color: transparent;\n",
              "      border-right-color: var(--fill-color);\n",
              "      border-top-color: var(--fill-color);\n",
              "    }\n",
              "    60% {\n",
              "      border-color: transparent;\n",
              "      border-right-color: var(--fill-color);\n",
              "    }\n",
              "    80% {\n",
              "      border-color: transparent;\n",
              "      border-right-color: var(--fill-color);\n",
              "      border-bottom-color: var(--fill-color);\n",
              "    }\n",
              "    90% {\n",
              "      border-color: transparent;\n",
              "      border-bottom-color: var(--fill-color);\n",
              "    }\n",
              "  }\n",
              "</style>\n",
              "\n",
              "  <script>\n",
              "    async function quickchart(key) {\n",
              "      const quickchartButtonEl =\n",
              "        document.querySelector('#' + key + ' button');\n",
              "      quickchartButtonEl.disabled = true;  // To prevent multiple clicks.\n",
              "      quickchartButtonEl.classList.add('colab-df-spinner');\n",
              "      try {\n",
              "        const charts = await google.colab.kernel.invokeFunction(\n",
              "            'suggestCharts', [key], {});\n",
              "      } catch (error) {\n",
              "        console.error('Error during call to suggestCharts:', error);\n",
              "      }\n",
              "      quickchartButtonEl.classList.remove('colab-df-spinner');\n",
              "      quickchartButtonEl.classList.add('colab-df-quickchart-complete');\n",
              "    }\n",
              "    (() => {\n",
              "      let quickchartButtonEl =\n",
              "        document.querySelector('#df-85e11ce3-ab38-4e1b-b1f6-96f6c5be14e2 button');\n",
              "      quickchartButtonEl.style.display =\n",
              "        google.colab.kernel.accessAllowed ? 'block' : 'none';\n",
              "    })();\n",
              "  </script>\n",
              "</div>\n",
              "\n",
              "    </div>\n",
              "  </div>\n"
            ],
            "application/vnd.google.colaboratory.intrinsic+json": {
              "type": "dataframe",
              "variable_name": "data",
              "summary": "{\n  \"name\": \"data\",\n  \"rows\": 488,\n  \"fields\": [\n    {\n      \"column\": \"S.No.\",\n      \"properties\": {\n        \"dtype\": \"number\",\n        \"std\": 145,\n        \"min\": 1,\n        \"max\": 500,\n        \"num_unique_values\": 488,\n        \"samples\": [\n          73,\n          255,\n          450\n        ],\n        \"semantic_type\": \"\",\n        \"description\": \"\"\n      }\n    },\n    {\n      \"column\": \"Name\",\n      \"properties\": {\n        \"dtype\": \"string\",\n        \"num_unique_values\": 488,\n        \"samples\": [\n          \"Marico\",\n          \"SKF India\",\n          \"Force Motors\"\n        ],\n        \"semantic_type\": \"\",\n        \"description\": \"\"\n      }\n    },\n    {\n      \"column\": \"Mar Cap - Crore\",\n      \"properties\": {\n        \"dtype\": \"number\",\n        \"std\": 59464.615831020186,\n        \"min\": 3017.07,\n        \"max\": 583436.72,\n        \"num_unique_values\": 479,\n        \"samples\": [\n          30919.51,\n          5802.66,\n          57748.98\n        ],\n        \"semantic_type\": \"\",\n        \"description\": \"\"\n      }\n    },\n    {\n      \"column\": \"Sales Qtr - Crore\",\n      \"properties\": {\n        \"dtype\": \"number\",\n        \"std\": 11092.206185492805,\n        \"min\": 47.24,\n        \"max\": 110666.93,\n        \"num_unique_values\": 365,\n        \"samples\": [\n          2789.58,\n          2688.85,\n          20318.6\n        ],\n        \"semantic_type\": \"\",\n        \"description\": \"\"\n      }\n    },\n    {\n      \"column\": \"Unnamed: 4\",\n      \"properties\": {\n        \"dtype\": \"number\",\n        \"std\": 1800.008836046111,\n        \"min\": 0.0,\n        \"max\": 7757.06,\n        \"num_unique_values\": 94,\n        \"samples\": [\n          387.7,\n          1059.12,\n          456.54\n        ],\n        \"semantic_type\": \"\",\n        \"description\": \"\"\n      }\n    }\n  ]\n}"
            }
          },
          "metadata": {},
          "execution_count": 2
        }
      ]
    },
    {
      "cell_type": "code",
      "source": [
        "#drop the irrelevent columns\n",
        "\n",
        "data_cleaned = data.drop(columns=['Unnamed: 4'])\n"
      ],
      "metadata": {
        "id": "99W8GY17liUF"
      },
      "execution_count": 4,
      "outputs": []
    },
    {
      "cell_type": "markdown",
      "source": [
        "# Descriptive Statistics"
      ],
      "metadata": {
        "id": "5WJAT2scl5ie"
      }
    },
    {
      "cell_type": "code",
      "source": [
        "# Display descriptive statistics\n",
        "descriptive_stats = data_cleaned.describe()\n",
        "print (\"Descriptive Statistics:\\n\", descriptive_stats)"
      ],
      "metadata": {
        "colab": {
          "base_uri": "https://localhost:8080/",
          "height": 0
        },
        "id": "vxwTO2Jsl9NS",
        "outputId": "57ae9ad4-a16b-4518-d122-8e8ad884a2fa"
      },
      "execution_count": 5,
      "outputs": [
        {
          "output_type": "stream",
          "name": "stdout",
          "text": [
            "Descriptive Statistics:\n",
            "             S.No.  Mar Cap - Crore  Sales Qtr - Crore\n",
            "count  488.000000       479.000000         365.000000\n",
            "mean   251.508197     28043.857119        4395.976849\n",
            "std    145.884078     59464.615831       11092.206185\n",
            "min      1.000000      3017.070000          47.240000\n",
            "25%    122.750000      4843.575000         593.740000\n",
            "50%    252.500000      9885.050000        1278.300000\n",
            "75%    378.250000     23549.900000        2840.750000\n",
            "max    500.000000    583436.720000      110666.930000\n"
          ]
        }
      ]
    },
    {
      "cell_type": "markdown",
      "source": [
        "**1. Descriptive statistic for Market Capitalaization**"
      ],
      "metadata": {
        "id": "8Lxn88yXmDha"
      }
    },
    {
      "cell_type": "code",
      "source": [
        "market_cap_stats = descriptive_stats['Mar Cap - Crore']\n",
        "print (\"Market Capitalization (in Crores):\")\n",
        "print(f\"Count: {market_cap_stats['count']:.0f}\")\n",
        "print(f\"Mean: ₹{market_cap_stats['mean']:.2f} Crores\")\n",
        "print(f\"Standard Deviation: ₹{market_cap_stats['std']:.2f} Crores\")\n",
        "print(f\"Minimum: ₹{market_cap_stats['min']: 2f} Crores\")\n",
        "print(f\"25th Percentile: ₹{market_cap_stats['25%']: 2f} Crores\")\n",
        "print(f\"Median (50th Percentile): ₹{market_cap_stats['50%']:.2f} Crores\")\n",
        "print(f\"75th Percentile: ₹{market_cap_stats['75%']:.2f} Crores\")\n",
        "print(f\"Maximum: {market_cap_stats['max']:.2f} Crores\")"
      ],
      "metadata": {
        "colab": {
          "base_uri": "https://localhost:8080/",
          "height": 0
        },
        "id": "WETuT6v3mK-e",
        "outputId": "d68ce569-b379-4ffe-d7a0-02cc97186a51"
      },
      "execution_count": 12,
      "outputs": [
        {
          "output_type": "stream",
          "name": "stdout",
          "text": [
            "Market Capitalization (in Crores):\n",
            "Count: 479\n",
            "Mean: ₹28043.86 Crores\n",
            "Standard Deviation: ₹59464.62 Crores\n",
            "Minimum: ₹ 3017.070000 Crores\n",
            "25th Percentile: ₹ 4843.575000 Crores\n",
            "Median (50th Percentile): ₹9885.05 Crores\n",
            "75th Percentile: ₹23549.90 Crores\n",
            "Maximum: 583436.72 Crores\n"
          ]
        }
      ]
    },
    {
      "cell_type": "markdown",
      "source": [
        "**Top 10 Companies by Market Capitalization**"
      ],
      "metadata": {
        "id": "4LHFmCC3o9Qs"
      }
    },
    {
      "cell_type": "code",
      "source": [
        "\n",
        "# Identify the top 18 companies by Market CapitaLization\n",
        "top_10_market_cap = data_cleaned.nlargest(10, 'Mar Cap - Crore')\n",
        "print(\"\\nTop 10 Companies by Market Capitalization: \\n\", top_10_market_cap)"
      ],
      "metadata": {
        "colab": {
          "base_uri": "https://localhost:8080/",
          "height": 0
        },
        "id": "466il7PboF4L",
        "outputId": "4049eab8-18e5-4c6c-8a76-9e0177b8af92"
      },
      "execution_count": 13,
      "outputs": [
        {
          "output_type": "stream",
          "name": "stdout",
          "text": [
            "\n",
            "Top 10 Companies by Market Capitalization: \n",
            "    S.No.            Name  Mar Cap - Crore  Sales Qtr - Crore\n",
            "0      1  Reliance Inds.        583436.72           99810.00\n",
            "1      2             TCS        563709.84           30904.00\n",
            "2      3       HDFC Bank        482953.59           20581.27\n",
            "3      4             ITC        320985.27            9772.02\n",
            "4      5         H D F C        289497.37           16840.51\n",
            "5      6  Hind. Unilever        288265.26            8590.00\n",
            "6      7   Maruti Suzuki        263493.81           19283.20\n",
            "7      8         Infosys        248320.35           17794.00\n",
            "8      9         O N G C        239981.50           22995.88\n",
            "9     10  St Bk of India        232763.33           57014.08\n"
          ]
        }
      ]
    },
    {
      "cell_type": "code",
      "source": [
        "for idx, row in top_10_market_cap.iterrows():\n",
        "  print(f\"{row[ 'Name' ]} - ₹{row['Mar Cap - Crore']:.2f} Crores\")"
      ],
      "metadata": {
        "colab": {
          "base_uri": "https://localhost:8080/",
          "height": 0
        },
        "id": "FJoocI9epPnm",
        "outputId": "e976f816-6d56-49ba-df93-6cdee608ba07"
      },
      "execution_count": 16,
      "outputs": [
        {
          "output_type": "stream",
          "name": "stdout",
          "text": [
            "Reliance Inds. - ₹583436.72 Crores\n",
            "TCS - ₹563709.84 Crores\n",
            "HDFC Bank - ₹482953.59 Crores\n",
            "ITC - ₹320985.27 Crores\n",
            "H D F C - ₹289497.37 Crores\n",
            "Hind. Unilever - ₹288265.26 Crores\n",
            "Maruti Suzuki - ₹263493.81 Crores\n",
            "Infosys - ₹248320.35 Crores\n",
            "O N G C - ₹239981.50 Crores\n",
            "St Bk of India - ₹232763.33 Crores\n"
          ]
        }
      ]
    },
    {
      "cell_type": "markdown",
      "source": [
        "**2. Descriptive statistics for Quarterly Sales**"
      ],
      "metadata": {
        "id": "bAt_EXuLp2Oh"
      }
    },
    {
      "cell_type": "code",
      "source": [
        "sales_stats = descriptive_stats['Sales Qtr - Crore']\n",
        "print (\"\\Quarterly Sales (in Crores):\")\n",
        "print (f\"Count: (sales_stats[ 'count' ]:.0f)\")\n",
        "print (f\"Mean: 2(sales_stats[ 'mean']:.2f) Crores\")\n",
        "print(f\"Standard Deviation: ₹{sales_stats['std']:.2f} Crores \")\n",
        "print(f\"25th Percentile: ₹{sales_stats['25%']: 2f} Crores\")\n",
        "print(f\"Median (50th Percentile): ₹{sales_stats['50%']:.2f} Crores\")\n",
        "print(f\"75th Percentile: ₹{sales_stats['75%']:.2f} Crores\")\n",
        "print(f\"Maximum: ₹{sales_stats['max']:.2f} Crores\")"
      ],
      "metadata": {
        "colab": {
          "base_uri": "https://localhost:8080/",
          "height": 0
        },
        "id": "eqLIEcRrpyuW",
        "outputId": "8649cb6b-a7c3-4dfd-c261-971236fde13b"
      },
      "execution_count": 20,
      "outputs": [
        {
          "output_type": "stream",
          "name": "stdout",
          "text": [
            "\\Quarterly Sales (in Crores):\n",
            "Count: (sales_stats[ 'count' ]:.0f)\n",
            "Mean: 2(sales_stats[ 'mean']:.2f) Crores\n",
            "Standard Deviation: ₹11092.21 Crores \n",
            "25th Percentile: ₹ 593.740000 Crores\n",
            "Median (50th Percentile): ₹1278.30 Crores\n",
            "75th Percentile: ₹2840.75 Crores\n",
            "Maximum: ₹110666.93 Crores\n"
          ]
        }
      ]
    },
    {
      "cell_type": "markdown",
      "source": [
        "# Top 10 Companies by Quarterly Sales"
      ],
      "metadata": {
        "id": "pEPYjheArVML"
      }
    },
    {
      "cell_type": "code",
      "source": [
        "\n",
        "# Identify the top 10 companies by Quarterly Sales\n",
        "top_10_sales = data_cleaned.nlargest(10, 'Sales Qtr - Crore')\n",
        "print(\"\\nTop 10 Companies by Quarterly Sales:\\n\", top_10_sales)"
      ],
      "metadata": {
        "colab": {
          "base_uri": "https://localhost:8080/",
          "height": 0
        },
        "id": "nqVsUfOMrTbv",
        "outputId": "fbef5525-c1b1-4892-93f1-6aa6e9b3416d"
      },
      "execution_count": 22,
      "outputs": [
        {
          "output_type": "stream",
          "name": "stdout",
          "text": [
            "\n",
            "Top 10 Companies by Quarterly Sales:\n",
            "      S.No.             Name  Mar Cap - Crore  Sales Qtr - Crore\n",
            "14      15          I O C L        178017.48          110666.93\n",
            "0        1   Reliance Inds.        583436.72           99810.00\n",
            "23      24      Tata Motors        117071.87           74156.07\n",
            "27      28          B P C L         98278.00           60616.36\n",
            "54      55          H P C L         58034.78           57474.25\n",
            "9       10   St Bk of India        232763.33           57014.08\n",
            "122    123   Rajesh Exports         23495.54           41304.84\n",
            "40      41       Tata Steel         73376.14           32464.14\n",
            "1        2              TCS        563709.84           30904.00\n",
            "13      14  Larsen & Toubro        180860.74           28747.45\n"
          ]
        }
      ]
    },
    {
      "cell_type": "code",
      "source": [
        "for idx, row in top_10_sales.iterrows():\n",
        "  print(f\"{row[ 'Name' ]} - ₹{row[ 'Sales Qtr - Crore']:.2f} Crores\")"
      ],
      "metadata": {
        "colab": {
          "base_uri": "https://localhost:8080/",
          "height": 0
        },
        "id": "bPBch2v9rrZF",
        "outputId": "f99d1614-5edd-4feb-de3e-bacebb7a4445"
      },
      "execution_count": 23,
      "outputs": [
        {
          "output_type": "stream",
          "name": "stdout",
          "text": [
            "I O C L - ₹110666.93 Crores\n",
            "Reliance Inds. - ₹99810.00 Crores\n",
            "Tata Motors - ₹74156.07 Crores\n",
            "B P C L - ₹60616.36 Crores\n",
            "H P C L - ₹57474.25 Crores\n",
            "St Bk of India - ₹57014.08 Crores\n",
            "Rajesh Exports - ₹41304.84 Crores\n",
            "Tata Steel - ₹32464.14 Crores\n",
            "TCS - ₹30904.00 Crores\n",
            "Larsen & Toubro - ₹28747.45 Crores\n"
          ]
        }
      ]
    },
    {
      "cell_type": "markdown",
      "source": [
        "# Correlation Analysis"
      ],
      "metadata": {
        "id": "7efSHTJZr8BY"
      }
    },
    {
      "cell_type": "code",
      "source": [
        "#lculate correlation between Market capitalization and Quarterly Sales.\n",
        "correlation = data_cleaned[[ 'Mar Cap - Crore', 'Sales Qtr - Crore']].corr()\n",
        "print(\"\\nCorrelation between Market Capitalization and Quarterly Sales:\\n\", correlation)"
      ],
      "metadata": {
        "colab": {
          "base_uri": "https://localhost:8080/",
          "height": 0
        },
        "id": "wrFx054wr_eD",
        "outputId": "60bdf8f7-4cdd-4e76-f3f5-6ca173a68aa2"
      },
      "execution_count": 24,
      "outputs": [
        {
          "output_type": "stream",
          "name": "stdout",
          "text": [
            "\n",
            "Correlation between Market Capitalization and Quarterly Sales:\n",
            "                    Mar Cap - Crore  Sales Qtr - Crore\n",
            "Mar Cap - Crore           1.000000           0.620702\n",
            "Sales Qtr - Crore         0.620702           1.000000\n"
          ]
        }
      ]
    },
    {
      "cell_type": "markdown",
      "source": [
        "The correlation between market capitalization and quarterly sales is 0.6207, indicating a\n",
        "moderate positive relationship. This suggests that companies with higher market\n",
        "capitalization tend to have higher quarterly sales, but the relationship is not perfectly\n",
        "linear."
      ],
      "metadata": {
        "id": "5e_pMiP3sbu1"
      }
    },
    {
      "cell_type": "markdown",
      "source": [
        "# Visualization\n",
        "\n",
        "1. Distributed Market Capitalization"
      ],
      "metadata": {
        "id": "aGzsRlEesek-"
      }
    },
    {
      "cell_type": "code",
      "source": [
        "#Set the style for the plots\n",
        "sns.set(style='whitegrid')\n",
        "plt.figure(figsize=(10, 6))\n",
        "sns.histplot(data_cleaned['Mar Cap - Crore'], bins=30, kde=True, color= 'blue')\n",
        "plt.title('Distribution of Market Capitalization')\n",
        "plt.xlabel('Market Capitalization (in Crores)')\n",
        "plt.ylabel (\"Frequency\" )\n",
        "plt. show()"
      ],
      "metadata": {
        "colab": {
          "base_uri": "https://localhost:8080/",
          "height": 573
        },
        "id": "PBGdB0-Usdvo",
        "outputId": "df3753c9-bb53-4c24-c79a-690fa543862c"
      },
      "execution_count": 26,
      "outputs": [
        {
          "output_type": "display_data",
          "data": {
            "text/plain": [
              "<Figure size 1000x600 with 1 Axes>"
            ],
            "image/png": "[encoded data removed]"
          },
          "metadata": {}
        }
      ]
    },
    {
      "cell_type": "markdown",
      "source": [
        "-> Shows the frequency distribution of market capitalization among the top 500\n",
        "companies.\n",
        "-> The histogram shows a right-skewed distribution with most companies having a\n",
        "market cap below $25,000 Crores and a few outliers with very high market caps.\n",
        "-> Most companies have a market capitalization below 750,000 Crores.\n"
      ],
      "metadata": {
        "id": "A11cRWj0tSK1"
      }
    },
    {
      "cell_type": "markdown",
      "source": [
        "# 2.Distribution of Quarterly Sales"
      ],
      "metadata": {
        "id": "nriCXLmau8kD"
      }
    },
    {
      "cell_type": "code",
      "source": [
        "plt. figure(figsize=(10, 6))\n",
        "sns.histplot(data_cleaned['Sales Qtr - Crore'], bins=30, kde=True, color='green')\n",
        "plt.title( 'Distribution of Quarterly Sales')\n",
        "plt.xlabel('Quarterly Sales (in Crores)')\n",
        "plt.ylabel ('Frequency')\n",
        "plt.show()\n"
      ],
      "metadata": {
        "colab": {
          "base_uri": "https://localhost:8080/",
          "height": 573
        },
        "id": "f710bVp9tTx-",
        "outputId": "9518092d-943b-4cab-a77a-63140d83047c"
      },
      "execution_count": 28,
      "outputs": [
        {
          "output_type": "display_data",
          "data": {
            "text/plain": [
              "<Figure size 1000x600 with 1 Axes>"
            ],
            "image/png": "[encoded data removed]"
          },
          "metadata": {}
        }
      ]
    },
    {
      "cell_type": "markdown",
      "source": [
        "--> Shows the frequency distribution of quarterly sales among the top 500 companies.<br>\n",
        "--> The histogram indicates a right-skewed distribution with most companies having\n",
        "quarterly sales below 85,000 Crores and a few outliers with exceptionally high sales\n",
        "figures.<br>\n",
        "--> Most companies have quarterly sales below &10,000 Crores.\n"
      ],
      "metadata": {
        "id": "gzKcx13MtqvF"
      }
    },
    {
      "cell_type": "markdown",
      "source": [
        "# 3.Market Capitalization vs. Quarterly Sales"
      ],
      "metadata": {
        "id": "8LaGWD9ZvHYI"
      }
    },
    {
      "cell_type": "code",
      "source": [
        "plt.figure(figsize=(10, 6))\n",
        "sns.scatterplot(x='Mar Cap - Crore', y='Sales Qtr - Crore' , data=data_cleaned)\n",
        "plt.title('Market Capitalization vs. Quarterly Sales')\n",
        "plt.xlabel('Market Capitalization (in Crores)')\n",
        "plt.ylabel('Quarterly Sales (in Crores)')\n",
        "plt. show()"
      ],
      "metadata": {
        "colab": {
          "base_uri": "https://localhost:8080/",
          "height": 573
        },
        "id": "uF-eXKz3tu7Q",
        "outputId": "898f0ea7-7677-4fc9-bccc-e2ece0c67a41"
      },
      "execution_count": 31,
      "outputs": [
        {
          "output_type": "display_data",
          "data": {
            "text/plain": [
              "<Figure size 1000x600 with 1 Axes>"
            ],
            "image/png": "[encoded data removed]"
          },
          "metadata": {}
        }
      ]
    },
    {
      "cell_type": "markdown",
      "source": [
        "--> Scatter plot illustrating the relationship between market capitalization and quarterly\n",
        "sales.<br>\n",
        "--> The scatter plot visualizes a positive relationship between market cap and quarterly\n",
        "sales, with most data points clustered towards the lower end and some outliers\n",
        "indicating high values for both metrics.<br><br><br>\n",
        "# Key Insights:<br>\n",
        "1. Market Concentration: A small number of companies dominate the market in terms\n",
        "of capitalization and sales, as evident from the top 10 lists.<br><br>\n",
        "2. Variability: Both market capitalization and quarterly sales show significant variability\n",
        "across companies, indicating a diverse set of firms in terms of size and revenue.<br><br>\n",
        "3. Positive Correlation: There is a positive correlation between market capitalization\n",
        "and quarterly sales, although it is not very strong. This suggests that other factors\n",
        "also play a significant role in determining market capitalization.<br><br>\n",
        "4. Sectoral Leaders: Companies like Reliance Industries, TCS, and State Bank of India\n",
        "appear in both top 10 lists, highlighting their strong position in the market both in\n",
        "terms of value and revenue."
      ],
      "metadata": {
        "id": "Q38Ov0dauNkv"
      }
    }
  ]
}